{
 "cells": [
  {
   "cell_type": "markdown",
   "metadata": {},
   "source": [
    "<img alt=\"QuantRocket logo\" src=\"https://www.quantrocket.com/assets/img/notebook-header-logo.png\">\n",
    "\n",
    "<a href=\"https://www.quantrocket.com/disclaimer/\">Disclaimer</a>"
   ]
  },
  {
   "cell_type": "markdown",
   "metadata": {},
   "source": [
    "# Global Equities End-of-Day Data Collection\n",
    "\n",
    "This collection of notebooks demonstrates how to collect a library of global end-of-day equities data from IB. Once collected, you can use the data to research ideas and test trading strategies around the globe."
   ]
  },
  {
   "cell_type": "markdown",
   "metadata": {},
   "source": [
    "## Data collection overview\n",
    "For each country, we complete the following steps:\n",
    "\n",
    "1. Collect stock listings from IB\n",
    "2. Create a universe of all stock listings for the country\n",
    "3. Create a historical database and collect 1-day split- and dividend-adjusted bars. In countries where stocks trade on multiple exchanges, we collect consolidated prices and primary exchange prices in two separate databases (see below for more detail). \n",
    "4. Collect Reuters fundamental data, including estimates/actuals and financial statements\n",
    "5. Collect shortable shares data"
   ]
  },
  {
   "cell_type": "markdown",
   "metadata": {},
   "source": [
    "## Consolidated prices vs primary exchange prices\n",
    "\n",
    "In many countries, stocks are cross-listed on multiple exchanges. Depending on your research goals, it may be more useful to work with consolidated historical data (i.e. data representing trades from all exchanges) or historical data from the primary exchange only. [Learn more about primary exchange vs consolidated prices](https://www.quantrocket.com/p/docs/primary-v-consolidated). To maximize research flexibility, collecting the data both ways is a sensible idea. This is demonstrated in the notebooks."
   ]
  },
  {
   "cell_type": "markdown",
   "metadata": {},
   "source": [
    "## Disk space\n",
    "\n",
    "Approximately 15 GB of disk space is required for the resulting databases."
   ]
  },
  {
   "cell_type": "markdown",
   "metadata": {},
   "source": [
    "## Regions\n",
    "\n",
    "* [Asia](asia/Asia-Introduction.ipynb)\n",
    "* [Europe](europe/Europe-Introduction.ipynb)\n",
    "* [North America](north_america/North-America-Introduction.ipynb)"
   ]
  }
 ],
 "metadata": {
  "kernelspec": {
   "display_name": "Python 3",
   "language": "python",
   "name": "python3"
  },
  "language_info": {
   "codemirror_mode": {
    "name": "ipython",
    "version": 3
   },
   "file_extension": ".py",
   "mimetype": "text/x-python",
   "name": "python",
   "nbconvert_exporter": "python",
   "pygments_lexer": "ipython3",
   "version": "3.6.6"
  }
 },
 "nbformat": 4,
 "nbformat_minor": 2
}
