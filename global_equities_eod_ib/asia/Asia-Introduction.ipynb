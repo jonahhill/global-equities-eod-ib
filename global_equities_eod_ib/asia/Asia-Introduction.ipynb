{
 "cells": [
  {
   "cell_type": "markdown",
   "metadata": {},
   "source": [
    "<img alt=\"QuantRocket logo\" src=\"https://www.quantrocket.com/assets/img/notebook-header-logo.png\">\n",
    "\n",
    "<a href=\"https://www.quantrocket.com/disclaimer/\">Disclaimer</a>"
   ]
  },
  {
   "cell_type": "markdown",
   "metadata": {},
   "source": [
    "# Asia/Pacific End-of-Day Equities Data Collection"
   ]
  },
  {
   "cell_type": "markdown",
   "metadata": {},
   "source": [
    "## IB market data permissions\n",
    "\n",
    "At the time of writing, the following subscriptions were needed to obtain the data in these notebooks. IB data packages change frequently so these may not match yours. \n",
    "\n",
    "* ASX Total - Level 2\n",
    "* Hong Kong Securities Exchange (Stocks, Warrants, & Bonds) - Level 1\n",
    "* Japan (Chi-X) Equities - Level 1\n",
    "* Japan (TSE) Equities - Level 1\n",
    "* Singapore (SGX) Equities - Level 1"
   ]
  },
  {
   "cell_type": "markdown",
   "metadata": {},
   "source": [
    "## Countries\n",
    "\n",
    "### Asia/Pacific\n",
    "\n",
    "* [Australia](Australia.ipynb)\n",
    "* [Hong Kong](Hong-Kong.ipynb)\n",
    "* [Japan](Japan.ipynb)\n",
    "* [Singapore](Singapore.ipynb)\n",
    "\n",
    "### Omitted Countries\n",
    "\n",
    "Mainland China stocks (SEHKNTL and SEHKSZSE) are omitted because market data is not available via the IB API due to restrictions imposed by the exchanges.\n",
    "\n",
    "India stocks (NSE) are omitted because market data is only available to Indian residents."
   ]
  },
  {
   "cell_type": "markdown",
   "metadata": {},
   "source": [
    "***\n",
    "\n",
    "[Back to Global Introduction](../Introduction.ipynb)"
   ]
  }
 ],
 "metadata": {
  "kernelspec": {
   "display_name": "Python 3",
   "language": "python",
   "name": "python3"
  },
  "language_info": {
   "codemirror_mode": {
    "name": "ipython",
    "version": 3
   },
   "file_extension": ".py",
   "mimetype": "text/x-python",
   "name": "python",
   "nbconvert_exporter": "python",
   "pygments_lexer": "ipython3",
   "version": "3.6.6"
  }
 },
 "nbformat": 4,
 "nbformat_minor": 2
}
