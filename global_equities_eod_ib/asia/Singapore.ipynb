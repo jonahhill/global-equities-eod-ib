{
 "cells": [
  {
   "cell_type": "markdown",
   "metadata": {},
   "source": [
    "<img alt=\"QuantRocket logo\" src=\"https://www.quantrocket.com/assets/img/notebook-header-logo.png\">\n",
    "\n",
    "<a href=\"https://www.quantrocket.com/disclaimer/\">Disclaimer</a>"
   ]
  },
  {
   "cell_type": "markdown",
   "metadata": {},
   "source": [
    "# Singapore\n",
    "\n",
    "Singapore stocks trade on the Singapore Exchange (SGX)."
   ]
  },
  {
   "cell_type": "markdown",
   "metadata": {},
   "source": [
    "## Collect listings"
   ]
  },
  {
   "cell_type": "code",
   "execution_count": 1,
   "metadata": {},
   "outputs": [
    {
     "data": {
      "text/plain": [
       "{'status': 'the listing details will be collected asynchronously'}"
      ]
     },
     "execution_count": 1,
     "metadata": {},
     "output_type": "execute_result"
    }
   ],
   "source": [
    "from quantrocket.master import collect_listings\n",
    "collect_listings(exchanges=\"SGX\", sec_types=\"STK\")"
   ]
  },
  {
   "cell_type": "markdown",
   "metadata": {},
   "source": [
    "Monitor flightlog for completion:\n",
    "\n",
    "```\n",
    "quantrocket.master: INFO Collecting SGX STK listings from IB website\n",
    "quantrocket.master: INFO Requesting details for 784 SGX listings found on IB website\n",
    "quantrocket.master: INFO Saved 784 SGX listings to securities master database\n",
    "```"
   ]
  },
  {
   "cell_type": "markdown",
   "metadata": {},
   "source": [
    "## Create universe"
   ]
  },
  {
   "cell_type": "code",
   "execution_count": 2,
   "metadata": {},
   "outputs": [],
   "source": [
    "from quantrocket.master import download_master_file, create_universe\n",
    "download_master_file(exchanges=\"SGX\", sec_types=\"STK\", filepath_or_buffer=\"singapore_stk.csv\")"
   ]
  },
  {
   "cell_type": "code",
   "execution_count": 3,
   "metadata": {},
   "outputs": [
    {
     "data": {
      "text/plain": [
       "{'code': 'singapore-stk',\n",
       " 'provided': 784,\n",
       " 'inserted': 784,\n",
       " 'total_after_insert': 784}"
      ]
     },
     "execution_count": 3,
     "metadata": {},
     "output_type": "execute_result"
    }
   ],
   "source": [
    "create_universe(\"singapore-stk\", infilepath_or_buffer=\"singapore_stk.csv\")"
   ]
  },
  {
   "cell_type": "markdown",
   "metadata": {},
   "source": [
    "## Collect historical data\n",
    "\n",
    "Create a database for collecting dividend-adjusted 1 day bars. Singapore stocks only trade on SGX, so there's no need to create separate databases for consolidated vs. primary exchange prices."
   ]
  },
  {
   "cell_type": "code",
   "execution_count": 4,
   "metadata": {},
   "outputs": [
    {
     "data": {
      "text/plain": [
       "{'status': 'successfully created quantrocket.history.singapore-stk-1d.sqlite'}"
      ]
     },
     "execution_count": 4,
     "metadata": {},
     "output_type": "execute_result"
    }
   ],
   "source": [
    "from quantrocket.history import create_db\n",
    "create_db(\"singapore-stk-1d\", universes=\"singapore-stk\", bar_size=\"1 day\", bar_type=\"ADJUSTED_LAST\")"
   ]
  },
  {
   "cell_type": "markdown",
   "metadata": {},
   "source": [
    "Collect the data:"
   ]
  },
  {
   "cell_type": "code",
   "execution_count": 6,
   "metadata": {},
   "outputs": [
    {
     "data": {
      "text/plain": [
       "{'status': 'the historical data will be collected asynchronously'}"
      ]
     },
     "execution_count": 6,
     "metadata": {},
     "output_type": "execute_result"
    }
   ],
   "source": [
    "from quantrocket.history import collect_history\n",
    "collect_history(\"singapore-stk-1d\")"
   ]
  },
  {
   "cell_type": "markdown",
   "metadata": {},
   "source": [
    "Monitor flightlog for completion:\n",
    "```\n",
    "quantrocket.history: INFO [singapore-stk-1d] Collecting history from IB for 819 securities in singapore-stk-1d\n",
    "quantrocket.history: INFO [singapore-stk-1d] Saved 808669 total records for 768 total securities to quantrocket.history.singapore-stk-1d.sqlite\n",
    "```"
   ]
  },
  {
   "cell_type": "markdown",
   "metadata": {},
   "source": [
    "## Collect fundamental data"
   ]
  },
  {
   "cell_type": "markdown",
   "metadata": {},
   "source": [
    "### Estimates and actuals\n",
    "\n",
    "Collect fundamental data from the Reuters estimates and actuals database:"
   ]
  },
  {
   "cell_type": "code",
   "execution_count": 7,
   "metadata": {},
   "outputs": [
    {
     "data": {
      "text/plain": [
       "{'status': 'the fundamental data will be collected asynchronously'}"
      ]
     },
     "execution_count": 7,
     "metadata": {},
     "output_type": "execute_result"
    }
   ],
   "source": [
    "from quantrocket.fundamental import collect_reuters_estimates\n",
    "collect_reuters_estimates(universes=\"singapore-stk\")"
   ]
  },
  {
   "cell_type": "markdown",
   "metadata": {},
   "source": [
    "Monitor flightlog for completion:\n",
    "\n",
    "```\n",
    "quantrocket.fundamental: INFO Collecting Reuters estimates from IB for universes singapore-stk\n",
    "quantrocket.fundamental: INFO Saved 21310 total records for 338 total securities to quantrocket.fundamental.reuters.estimates.sqlite for universes singapore-stk (data unavailable for 443 securities)\n",
    "```"
   ]
  },
  {
   "cell_type": "markdown",
   "metadata": {},
   "source": [
    "### Financial statements\n",
    "\n",
    "Collect financial statements from Reuters:"
   ]
  },
  {
   "cell_type": "code",
   "execution_count": 8,
   "metadata": {},
   "outputs": [
    {
     "data": {
      "text/plain": [
       "{'status': 'the fundamental data will be collected asynchronously'}"
      ]
     },
     "execution_count": 8,
     "metadata": {},
     "output_type": "execute_result"
    }
   ],
   "source": [
    "from quantrocket.fundamental import collect_reuters_financials\n",
    "collect_reuters_financials(universes=\"singapore-stk\")"
   ]
  },
  {
   "cell_type": "markdown",
   "metadata": {},
   "source": [
    "Monitor flightlog for completion:\n",
    "\n",
    "```\n",
    "quantrocket.fundamental: INFO Collecting Reuters financials from IB for universes singapore-stk\n",
    "quantrocket.fundamental: INFO Saved 521505 total records for 723 total securities to quantrocket.fundamental.reuters.financials.sqlite for universes singapore-stk (data unavailable for 61 securities)\n",
    "```"
   ]
  },
  {
   "cell_type": "markdown",
   "metadata": {},
   "source": [
    "### Shortable shares\n",
    "\n",
    "IB does not offer short selling for Sinagpore stocks."
   ]
  },
  {
   "cell_type": "markdown",
   "metadata": {},
   "source": [
    "***\n",
    "\n",
    "[Back to Asia Introduction](Asia-Introduction.ipynb)"
   ]
  }
 ],
 "metadata": {
  "kernelspec": {
   "display_name": "Python 3",
   "language": "python",
   "name": "python3"
  },
  "language_info": {
   "codemirror_mode": {
    "name": "ipython",
    "version": 3
   },
   "file_extension": ".py",
   "mimetype": "text/x-python",
   "name": "python",
   "nbconvert_exporter": "python",
   "pygments_lexer": "ipython3",
   "version": "3.6.6"
  }
 },
 "nbformat": 4,
 "nbformat_minor": 2
}
