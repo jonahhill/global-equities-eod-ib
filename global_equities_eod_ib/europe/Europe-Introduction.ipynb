{
 "cells": [
  {
   "cell_type": "markdown",
   "metadata": {},
   "source": [
    "<img alt=\"QuantRocket logo\" src=\"https://www.quantrocket.com/assets/img/notebook-header-logo.png\">\n",
    "\n",
    "<a href=\"https://www.quantrocket.com/disclaimer/\">Disclaimer</a>"
   ]
  },
  {
   "cell_type": "markdown",
   "metadata": {},
   "source": [
    "# European Equities End-of-Day Data Collection"
   ]
  },
  {
   "cell_type": "markdown",
   "metadata": {},
   "source": [
    "## IB market data permissions \n",
    "\n",
    "At the time of writing, the following subscriptions were needed to obtain the data in these notebooks. IB data packages change frequently so these may not match yours. \n",
    "\n",
    "* Austrian (VSE) Equities & Derivatives - Level 2\n",
    "* Borsa Italiana (BVME stock/SEDEX/IDEM deriv) - Level 1\n",
    "* Euronext Basic Bundle - Level 1 (Non-pro) or Euronext Cash - Level 1 (Pro)\n",
    "* European (BATS/Chi-X) Equities - Level 2\n",
    "* Nordic Equity - Level 1\n",
    "* SIX Swiss Exchange - Level 2\n",
    "* Spot Market Germany (Frankfurt/Xetra) - Level 1\n",
    "* Stuttgart Boerse incl. Euwax (SWB) - Level 1\n",
    "* Turquoise ECNs - Level 1\n",
    "* UK LSE Equities - Level 1\n",
    "\n",
    "Subscribing to the relevant IB market data subscriptions can be slightly challenging for European stocks. There is typically a separate subscription for each exchange, but because many stocks are cross-listed on multiple exchanges, collecting consolidated prices often requires permission for numerous exchanges. Review the [market data help guide](https://www.quantrocket.com/h/err/162/md) for tips and techniques for determining which subscriptions are required.\n",
    "\n",
    "If you plan to subscribe to IB market data solely for the purpose of one-time data collection, it's advantagous to collect all European exchanges within the same month to minimize cost.  \n",
    "\n",
    "If you use a primary exchange filter to collect data only from the primary listing exchange, fewer permissions are required."
   ]
  },
  {
   "cell_type": "markdown",
   "metadata": {},
   "source": [
    "## Countries\n",
    "\n",
    "### Europe\n",
    "\n",
    "* [Austria](Austria.ipynb)\n",
    "* [Belgium](Belgium.ipynb)\n",
    "* [France](France.ipynb)\n",
    "* [Germany](Germany.ipynb)\n",
    "* [Italy](Italy.ipynb)\n",
    "* [Netherlands](Netherlands.ipynb)\n",
    "* [Portugal](Portugal.ipynb)\n",
    "* [Spain](Spain.ipynb)\n",
    "* [Sweden](Sweden.ipynb)\n",
    "* [Switzerland](Switzerland.ipynb)\n",
    "* [United Kingdom](United-Kingdom.ipynb)\n",
    "\n",
    "### Omitted Countries\n",
    "\n",
    "The following countries are omitted because market data is not available via the IB API due to restrictions imposed by the exchange:\n",
    "\n",
    "* Norway (OSE)\n",
    "\n",
    "The following countries are omitted because historical data is only available back to 2017 or 2018:\n",
    "\n",
    "* Estonia (N.TALLINN)\n",
    "* Hungary (BUX)\n",
    "* Israel (TASE)\n",
    "* Latvia (N.RIGA)\n",
    "* Lithuania (N.VILNIUS)\n",
    "* Poland (WSE)"
   ]
  },
  {
   "cell_type": "markdown",
   "metadata": {},
   "source": [
    "***\n",
    "\n",
    "[Back to Global Introduction](../Introduction.ipynb)"
   ]
  }
 ],
 "metadata": {
  "kernelspec": {
   "display_name": "Python 3",
   "language": "python",
   "name": "python3"
  },
  "language_info": {
   "codemirror_mode": {
    "name": "ipython",
    "version": 3
   },
   "file_extension": ".py",
   "mimetype": "text/x-python",
   "name": "python",
   "nbconvert_exporter": "python",
   "pygments_lexer": "ipython3",
   "version": "3.6.6"
  }
 },
 "nbformat": 4,
 "nbformat_minor": 2
}
