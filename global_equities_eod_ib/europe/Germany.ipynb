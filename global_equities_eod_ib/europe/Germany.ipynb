{
 "cells": [
  {
   "cell_type": "markdown",
   "metadata": {},
   "source": [
    "<img alt=\"QuantRocket logo\" src=\"https://www.quantrocket.com/assets/img/notebook-header-logo.png\">\n",
    "\n",
    "<a href=\"https://www.quantrocket.com/disclaimer/\">Disclaimer</a>"
   ]
  },
  {
   "cell_type": "markdown",
   "metadata": {},
   "source": [
    "# Germany\n",
    "\n",
    "German stocks trade on Xetra (IBIS), Frankfurt Stock Exchange (FWB), and Stuttgart Stock Exchange (SWB). Curiously, for some German stocks IB reports the exchange as IBIS2, FWB2, and SWB2, so we collect these \"exchanges\" as well."
   ]
  },
  {
   "cell_type": "markdown",
   "metadata": {},
   "source": [
    "## Collect listings"
   ]
  },
  {
   "cell_type": "code",
   "execution_count": 1,
   "metadata": {},
   "outputs": [
    {
     "data": {
      "text/plain": [
       "{'status': 'the listing details will be collected asynchronously'}"
      ]
     },
     "execution_count": 1,
     "metadata": {},
     "output_type": "execute_result"
    }
   ],
   "source": [
    "from quantrocket.master import collect_listings\n",
    "collect_listings(exchanges=[\"IBIS\",\"SWB\",\"FWB\", \"IBIS2\",\"SWB2\",\"FWB2\"], sec_types=\"STK\")"
   ]
  },
  {
   "cell_type": "markdown",
   "metadata": {},
   "source": [
    "Monitor flightlog for completion:\n",
    "\n",
    "```\n",
    "quantrocket.master: INFO Collecting IBIS STK listings from IB website\n",
    "quantrocket.master: INFO Requesting details for 2119 IBIS listings found on IB website\n",
    "quantrocket.master: INFO Saved 1559 IBIS listings to securities master database (ignored listings for AEB (17), EBS (20), ENEXT (4), FWB (195), SBF (239), SWB (20), VSE (28))\n",
    "...\n",
    "quantrocket.master: INFO Collecting SWB STK listings from IB website\n",
    "quantrocket.master: INFO Requesting details for 1801 SWB listings foundon IB website\n",
    "quantrocket.master: INFO Saved 63 SWB listings to securities master database (ignored listings for AEB (41), EBS (3), ENEXT (24), FWB (315), IBIS (793), SBF (230),VSE (29))\n",
    "...\n",
    "quantrocket.master: INFO Collecting FWB STK listings from IB website\n",
    "quantrocket.master: INFO Requesting details for 3455 FWB listings foundon IB website\n",
    "quantrocket.master: INFO Saved 526 FWB listings to securities master database (ignored listings for AEB (107), ATH (1), EBS (20), ENEXT (60), IBIS (1539), ISED (1), SBF (516), SWB (60), VSE (38))\n",
    "...\n",
    "quantrocket.master: INFO Collecting IBIS2 STK listings from IB website\n",
    "quantrocket.master: INFO Requesting details for 325 IBIS2 listings found on IB website\n",
    "quantrocket.master: INFO Saved 162 IBIS2 listings to securities master database (ignored listings for AEB (41), EBS (8), FWB2 (44), ISED (1), SBF (14), SWB2 (4))\n",
    "...\n",
    "quantrocket.master: INFO Collecting SWB2 STK listings from IB website\n",
    "quantrocket.master: INFO Requesting details for 1108 SWB2 listings found on IB website\n",
    "quantrocket.master: INFO Saved 4 SWB2 listings to securities master database (ignored listings for AEB (33), EBS (5), FWB2 (32), IBIS2 (49), ISED (1), SBF (14))\n",
    "...\n",
    "quantrocket.master: INFO Collecting FWB2 STK listings from IB website\n",
    "quantrocket.master: INFO Requesting details for 2527 FWB2 listings found on IB website\n",
    "quantrocket.master: INFO Saved 48 FWB2 listings to securities master database (ignored listings for AEB (41), EBS (7), IBIS2 (145), ISED (1), SBF (16), SWB2 (1))\n",
    "```"
   ]
  },
  {
   "cell_type": "markdown",
   "metadata": {},
   "source": [
    "## Create universe\n",
    "\n",
    "Create a universe of German stocks:"
   ]
  },
  {
   "cell_type": "code",
   "execution_count": 2,
   "metadata": {},
   "outputs": [],
   "source": [
    "from quantrocket.master import download_master_file, create_universe\n",
    "download_master_file(exchanges=[\"IBIS\",\"SWB\",\"FWB\", \"IBIS2\",\"SWB2\",\"FWB2\"], sec_types=\"STK\", filepath_or_buffer=\"germany_stk.csv\")"
   ]
  },
  {
   "cell_type": "code",
   "execution_count": 3,
   "metadata": {},
   "outputs": [
    {
     "data": {
      "text/plain": [
       "{'code': 'germany-stk',\n",
       " 'provided': 1170,\n",
       " 'inserted': 1170,\n",
       " 'total_after_insert': 1170}"
      ]
     },
     "execution_count": 3,
     "metadata": {},
     "output_type": "execute_result"
    }
   ],
   "source": [
    "create_universe(\"germany-stk\", infilepath_or_buffer=\"germany_stk.csv\")"
   ]
  },
  {
   "cell_type": "markdown",
   "metadata": {},
   "source": [
    "> At the time of writing, the universe size is substantially smaller than the number of listings collected from IB's website. This is because many of the listings are ETFs but they are included alongside the stock listings on IB's website."
   ]
  },
  {
   "cell_type": "markdown",
   "metadata": {},
   "source": [
    "## Collect historical data\n",
    "\n",
    "To maximize our research flexibility, we'll collect primary and consolidated data.\n",
    "\n",
    "Create a database for collecting dividend-adjusted 1 day consolidated bars:"
   ]
  },
  {
   "cell_type": "code",
   "execution_count": 4,
   "metadata": {},
   "outputs": [
    {
     "data": {
      "text/plain": [
       "{'status': 'successfully created quantrocket.history.germany-stk-1d.sqlite'}"
      ]
     },
     "execution_count": 4,
     "metadata": {},
     "output_type": "execute_result"
    }
   ],
   "source": [
    "from quantrocket.history import create_db\n",
    "create_db(\"germany-stk-1d\", universes=\"germany-stk\", bar_size=\"1 day\", bar_type=\"ADJUSTED_LAST\")"
   ]
  },
  {
   "cell_type": "markdown",
   "metadata": {},
   "source": [
    "Create a similar database for primary exchange bars:"
   ]
  },
  {
   "cell_type": "code",
   "execution_count": 5,
   "metadata": {},
   "outputs": [
    {
     "data": {
      "text/plain": [
       "{'status': 'successfully created quantrocket.history.germany-stk-1d-p.sqlite'}"
      ]
     },
     "execution_count": 5,
     "metadata": {},
     "output_type": "execute_result"
    }
   ],
   "source": [
    "create_db(\"germany-stk-1d-p\", universes=\"germany-stk\", bar_size=\"1 day\", bar_type=\"ADJUSTED_LAST\", primary_exchange=True)"
   ]
  },
  {
   "cell_type": "markdown",
   "metadata": {},
   "source": [
    "Collect the data:"
   ]
  },
  {
   "cell_type": "code",
   "execution_count": 6,
   "metadata": {},
   "outputs": [
    {
     "data": {
      "text/plain": [
       "{'status': 'the historical data will be collected asynchronously'}"
      ]
     },
     "execution_count": 6,
     "metadata": {},
     "output_type": "execute_result"
    }
   ],
   "source": [
    "from quantrocket.history import collect_history\n",
    "collect_history([\"germany-stk-1d-p\", \"germany-stk-1d\"])"
   ]
  },
  {
   "cell_type": "markdown",
   "metadata": {},
   "source": [
    "Monitor flightlog for completion:\n",
    "```\n",
    "quantrocket.history: INFO [germany-stk-1d-p] Collecting history from IB for 1147 securities in germany-stk-1d-p\n",
    "quantrocket.history: INFO [germany-stk-1d-p] Expected remaining runtime to collect germany-stk-1d-p history based on IB response times so far: 0:40:10 (977 more requests for 978 securities @ 2.5s/request)\n",
    "quantrocket.history: INFO [germany-stk-1d-p] Saved 2035119 total records for 1121 total securities to quantrocket.history.germany-stk-1d-p.sqlite\n",
    "...\n",
    "quantrocket.history: INFO [germany-stk-1d] Collecting history from IB for 1147 securities in germany-stk-1d\n",
    "quantrocket.history: INFO [germany-stk-1d] Expected remaining runtime to collect germany-stk-1d history based on IB response times so far: 0:44:28 (1060 more requests for 1061 securities @ 2.6s/request)\n",
    "quantrocket.history: INFO [germany-stk-1d] Saved 2112093 total records for 1119 total securities to quantrocket.history.germany-stk-1d.sqlite\n",
    "```"
   ]
  },
  {
   "cell_type": "markdown",
   "metadata": {},
   "source": [
    "## Collect fundamental data"
   ]
  },
  {
   "cell_type": "markdown",
   "metadata": {},
   "source": [
    "### Estimates and actuals\n",
    "\n",
    "Collect fundamental data from the Reuters estimates and actuals database:"
   ]
  },
  {
   "cell_type": "code",
   "execution_count": 7,
   "metadata": {},
   "outputs": [
    {
     "data": {
      "text/plain": [
       "{'status': 'the fundamental data will be collected asynchronously'}"
      ]
     },
     "execution_count": 7,
     "metadata": {},
     "output_type": "execute_result"
    }
   ],
   "source": [
    "from quantrocket.fundamental import collect_reuters_estimates\n",
    "collect_reuters_estimates(universes=\"germany-stk\")"
   ]
  },
  {
   "cell_type": "markdown",
   "metadata": {},
   "source": [
    "Monitor flightlog for completion:\n",
    "\n",
    "```\n",
    "quantrocket.fundamental: INFO Collecting Reuters estimates from IB for universes germany-stk\n",
    "quantrocket.fundamental: INFO Saved 159274 total records for 1002 total securities to quantrocket.fundamental.reuters.estimates.sqlite for universes germany-stk (data unavailable for 119 securities)\n",
    "```"
   ]
  },
  {
   "cell_type": "markdown",
   "metadata": {},
   "source": [
    "### Financial statements\n",
    "\n",
    "Collect financial statements from Reuters:"
   ]
  },
  {
   "cell_type": "code",
   "execution_count": 8,
   "metadata": {},
   "outputs": [
    {
     "data": {
      "text/plain": [
       "{'status': 'the fundamental data will be collected asynchronously'}"
      ]
     },
     "execution_count": 8,
     "metadata": {},
     "output_type": "execute_result"
    }
   ],
   "source": [
    "from quantrocket.fundamental import collect_reuters_financials\n",
    "collect_reuters_financials(universes=\"germany-stk\")"
   ]
  },
  {
   "cell_type": "markdown",
   "metadata": {},
   "source": [
    "Monitor flightlog for completion:\n",
    "\n",
    "```\n",
    "quantrocket.fundamental: INFO Collecting Reuters financials from IB for universes germany-stk\n",
    "quantrocket.fundamental: INFO Saved 801161 total records for 1057 total securities to quantrocket.fundamental.reuters.financials.sqlite for universes germany-stk (data unavailable for 67 securities)\n",
    "\n",
    "```"
   ]
  },
  {
   "cell_type": "markdown",
   "metadata": {},
   "source": [
    "### Shortable shares\n",
    "\n",
    "Collect the number of shares available to short:"
   ]
  },
  {
   "cell_type": "code",
   "execution_count": 9,
   "metadata": {},
   "outputs": [
    {
     "data": {
      "text/plain": [
       "{'status': 'the shortable shares will be collected asynchronously'}"
      ]
     },
     "execution_count": 9,
     "metadata": {},
     "output_type": "execute_result"
    }
   ],
   "source": [
    "from quantrocket.fundamental import collect_shortable_shares\n",
    "collect_shortable_shares(countries=\"germany\")"
   ]
  },
  {
   "cell_type": "markdown",
   "metadata": {},
   "source": [
    "Monitor flightlog for completion:\n",
    "\n",
    "```\n",
    "quantrocket.fundamental: INFO Collecting germany shortable shares from 2018-04-01 to present\n",
    "quantrocket.fundamental: INFO Saved 168009 total shortable shares records to quantrocket.fundamental.stockloan.shares.sqlite\n",
    "```"
   ]
  },
  {
   "cell_type": "markdown",
   "metadata": {},
   "source": [
    "***\n",
    "\n",
    "[Back to Europe Introduction](Europe-Introduction.ipynb)"
   ]
  }
 ],
 "metadata": {
  "kernelspec": {
   "display_name": "Python 3",
   "language": "python",
   "name": "python3"
  },
  "language_info": {
   "codemirror_mode": {
    "name": "ipython",
    "version": 3
   },
   "file_extension": ".py",
   "mimetype": "text/x-python",
   "name": "python",
   "nbconvert_exporter": "python",
   "pygments_lexer": "ipython3",
   "version": "3.6.6"
  }
 },
 "nbformat": 4,
 "nbformat_minor": 2
}
