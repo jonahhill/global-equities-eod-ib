{
 "cells": [
  {
   "cell_type": "markdown",
   "metadata": {},
   "source": [
    "<img alt=\"QuantRocket logo\" src=\"https://www.quantrocket.com/assets/img/notebook-header-logo.png\">\n",
    "\n",
    "<a href=\"https://www.quantrocket.com/disclaimer/\">Disclaimer</a>"
   ]
  },
  {
   "cell_type": "markdown",
   "metadata": {},
   "source": [
    "# Netherlands\n",
    "\n",
    "Netherlands stocks trade on Euronext Amsterdam (AEB)."
   ]
  },
  {
   "cell_type": "markdown",
   "metadata": {},
   "source": [
    "## Collect listings"
   ]
  },
  {
   "cell_type": "code",
   "execution_count": 1,
   "metadata": {},
   "outputs": [
    {
     "data": {
      "text/plain": [
       "{'status': 'the listing details will be collected asynchronously'}"
      ]
     },
     "execution_count": 1,
     "metadata": {},
     "output_type": "execute_result"
    }
   ],
   "source": [
    "from quantrocket.master import collect_listings\n",
    "collect_listings(exchanges=\"AEB\", sec_types=\"STK\")"
   ]
  },
  {
   "cell_type": "markdown",
   "metadata": {},
   "source": [
    "Monitor flightlog for completion:\n",
    "\n",
    "```\n",
    "quantrocket.master: INFO Collecting AEB STK listings from IB website\n",
    "quantrocket.master: INFO Requesting details for 362 AEB listings found on IB website\n",
    "quantrocket.master: INFO Saved 264 AEB listings to securities master database\n",
    "```"
   ]
  },
  {
   "cell_type": "markdown",
   "metadata": {},
   "source": [
    "## Create universe\n",
    "\n",
    "Create a universe of Netherlands stocks:"
   ]
  },
  {
   "cell_type": "code",
   "execution_count": 2,
   "metadata": {},
   "outputs": [],
   "source": [
    "from quantrocket.master import download_master_file, create_universe\n",
    "download_master_file(exchanges=\"AEB\", sec_types=\"STK\", filepath_or_buffer=\"netherlands_stk.csv\")"
   ]
  },
  {
   "cell_type": "code",
   "execution_count": 3,
   "metadata": {},
   "outputs": [
    {
     "data": {
      "text/plain": [
       "{'code': 'netherlands-stk',\n",
       " 'provided': 124,\n",
       " 'inserted': 124,\n",
       " 'total_after_insert': 124}"
      ]
     },
     "execution_count": 3,
     "metadata": {},
     "output_type": "execute_result"
    }
   ],
   "source": [
    "create_universe(\"netherlands-stk\", infilepath_or_buffer=\"netherlands_stk.csv\")"
   ]
  },
  {
   "cell_type": "markdown",
   "metadata": {},
   "source": [
    "> At the time of writing, the universe size is substantially smaller than the number of listings collected from IB's website. This is because many of the listings are ETFs but they are included alongside the stock listings on IB's website."
   ]
  },
  {
   "cell_type": "markdown",
   "metadata": {},
   "source": [
    "## Collect historical data\n",
    "\n",
    "To maximize our research flexibility, we'll collect primary and consolidated data.\n",
    "\n",
    "Create a database for collecting dividend-adjusted 1 day consolidated bars:"
   ]
  },
  {
   "cell_type": "code",
   "execution_count": 4,
   "metadata": {},
   "outputs": [
    {
     "data": {
      "text/plain": [
       "{'status': 'successfully created quantrocket.history.netherlands-stk-1d.sqlite'}"
      ]
     },
     "execution_count": 4,
     "metadata": {},
     "output_type": "execute_result"
    }
   ],
   "source": [
    "from quantrocket.history import create_db\n",
    "create_db(\"netherlands-stk-1d\", universes=\"netherlands-stk\", bar_size=\"1 day\", bar_type=\"ADJUSTED_LAST\")"
   ]
  },
  {
   "cell_type": "markdown",
   "metadata": {},
   "source": [
    "Create a similar database for primary exchange bars:"
   ]
  },
  {
   "cell_type": "code",
   "execution_count": 5,
   "metadata": {},
   "outputs": [
    {
     "data": {
      "text/plain": [
       "{'status': 'successfully created quantrocket.history.netherlands-stk-1d-p.sqlite'}"
      ]
     },
     "execution_count": 5,
     "metadata": {},
     "output_type": "execute_result"
    }
   ],
   "source": [
    "create_db(\"netherlands-stk-1d-p\", universes=\"netherlands-stk\", bar_size=\"1 day\", bar_type=\"ADJUSTED_LAST\", primary_exchange=True)"
   ]
  },
  {
   "cell_type": "markdown",
   "metadata": {},
   "source": [
    "Collect the data:"
   ]
  },
  {
   "cell_type": "code",
   "execution_count": 6,
   "metadata": {},
   "outputs": [
    {
     "data": {
      "text/plain": [
       "{'status': 'the historical data will be collected asynchronously'}"
      ]
     },
     "execution_count": 6,
     "metadata": {},
     "output_type": "execute_result"
    }
   ],
   "source": [
    "from quantrocket.history import collect_history\n",
    "collect_history([\"netherlands-stk-1d-p\", \"netherlands-stk-1d\"])"
   ]
  },
  {
   "cell_type": "markdown",
   "metadata": {},
   "source": [
    "Monitor flightlog for completion:\n",
    "```\n",
    "quantrocket.history: INFO [netherlands-stk-1d-p] Collecting history from IB for 124 securities in netherlands-stk-1d-p\n",
    "quantrocket.history: INFO [netherlands-stk-1d-p] Saved 218626 total records for 120 total securities to quantrocket.history.netherlands-stk-1d-p.sqlite\n",
    "...\n",
    "quantrocket.history: INFO [netherlands-stk-1d] Collecting history from IB for 124 securities in netherlands-stk-1d\n",
    "quantrocket.history: INFO [netherlands-stk-1d] Saved 211864 total records for 121 total securities to quantrocket.history.netherlands-stk-1d.sqlite\n",
    "```"
   ]
  },
  {
   "cell_type": "markdown",
   "metadata": {},
   "source": [
    "## Collect fundamental data"
   ]
  },
  {
   "cell_type": "markdown",
   "metadata": {},
   "source": [
    "### Estimates and actuals\n",
    "\n",
    "Collect fundamental data from the Reuters estimates and actuals database:"
   ]
  },
  {
   "cell_type": "code",
   "execution_count": 7,
   "metadata": {},
   "outputs": [
    {
     "data": {
      "text/plain": [
       "{'status': 'the fundamental data will be collected asynchronously'}"
      ]
     },
     "execution_count": 7,
     "metadata": {},
     "output_type": "execute_result"
    }
   ],
   "source": [
    "from quantrocket.fundamental import collect_reuters_estimates\n",
    "collect_reuters_estimates(universes=\"netherlands-stk\")"
   ]
  },
  {
   "cell_type": "markdown",
   "metadata": {},
   "source": [
    "Monitor flightlog for completion:\n",
    "\n",
    "```\n",
    "quantrocket.fundamental: INFO Collecting Reuters estimates from IB for universes netherlands-stk\n",
    "quantrocket.fundamental: INFO Saved 8075 total records for 98 total securities to quantrocket.fundamental.reuters.estimates.sqlite for universes netherlands-stk (data unavailable for 26 securities) \n",
    "```"
   ]
  },
  {
   "cell_type": "markdown",
   "metadata": {},
   "source": [
    "### Financial statements\n",
    "\n",
    "Collect financial statements from Reuters:"
   ]
  },
  {
   "cell_type": "code",
   "execution_count": 8,
   "metadata": {},
   "outputs": [
    {
     "data": {
      "text/plain": [
       "{'status': 'the fundamental data will be collected asynchronously'}"
      ]
     },
     "execution_count": 8,
     "metadata": {},
     "output_type": "execute_result"
    }
   ],
   "source": [
    "from quantrocket.fundamental import collect_reuters_financials\n",
    "collect_reuters_financials(universes=\"netherlands-stk\")"
   ]
  },
  {
   "cell_type": "markdown",
   "metadata": {},
   "source": [
    "Monitor flightlog for completion:\n",
    "\n",
    "```\n",
    "quantrocket.fundamental: INFO Collecting Reuters financials from IB for universes netherlands-stk\n",
    "quantrocket.fundamental: INFO Saved 51278 total records for 115 total securities to quantrocket.fundamental.reuters.financials.sqlite for universes netherlands-stk (data unavailable for 9 securities)\n",
    "```"
   ]
  },
  {
   "cell_type": "markdown",
   "metadata": {},
   "source": [
    "### Shortable shares\n",
    "\n",
    "Collect the number of shares available to short:"
   ]
  },
  {
   "cell_type": "code",
   "execution_count": 9,
   "metadata": {},
   "outputs": [
    {
     "data": {
      "text/plain": [
       "{'status': 'the shortable shares will be collected asynchronously'}"
      ]
     },
     "execution_count": 9,
     "metadata": {},
     "output_type": "execute_result"
    }
   ],
   "source": [
    "from quantrocket.fundamental import collect_shortable_shares\n",
    "collect_shortable_shares(countries=\"dutch\")"
   ]
  },
  {
   "cell_type": "markdown",
   "metadata": {},
   "source": [
    "Monitor flightlog for completion:\n",
    "\n",
    "```\n",
    "quantrocket.fundamental: INFO Collecting dutch shortable shares from 2018-04-01 to present\n",
    "quantrocket.fundamental: INFO Saved 40163 total shortable shares records to quantrocket.fundamental.stockloan.shares.sqlite\n",
    "```"
   ]
  },
  {
   "cell_type": "markdown",
   "metadata": {},
   "source": [
    "***\n",
    "\n",
    "[Back to Europe Introduction](Europe-Introduction.ipynb)"
   ]
  }
 ],
 "metadata": {
  "kernelspec": {
   "display_name": "Python 3",
   "language": "python",
   "name": "python3"
  },
  "language_info": {
   "codemirror_mode": {
    "name": "ipython",
    "version": 3
   },
   "file_extension": ".py",
   "mimetype": "text/x-python",
   "name": "python",
   "nbconvert_exporter": "python",
   "pygments_lexer": "ipython3",
   "version": "3.6.6"
  }
 },
 "nbformat": 4,
 "nbformat_minor": 2
}
