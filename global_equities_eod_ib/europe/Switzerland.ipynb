{
 "cells": [
  {
   "cell_type": "markdown",
   "metadata": {},
   "source": [
    "<img alt=\"QuantRocket logo\" src=\"https://www.quantrocket.com/assets/img/notebook-header-logo.png\">\n",
    "\n",
    "<a href=\"https://www.quantrocket.com/disclaimer/\">Disclaimer</a>"
   ]
  },
  {
   "cell_type": "markdown",
   "metadata": {},
   "source": [
    "# Switzerland\n",
    "\n",
    "Swiss stocks trade on SIX Swiss Exchange (EBS) and VIRT-X (VIRTX)."
   ]
  },
  {
   "cell_type": "markdown",
   "metadata": {},
   "source": [
    "## Collect listings"
   ]
  },
  {
   "cell_type": "code",
   "execution_count": 1,
   "metadata": {},
   "outputs": [
    {
     "data": {
      "text/plain": [
       "{'status': 'the listing details will be collected asynchronously'}"
      ]
     },
     "execution_count": 1,
     "metadata": {},
     "output_type": "execute_result"
    }
   ],
   "source": [
    "from quantrocket.master import collect_listings\n",
    "collect_listings(exchanges=[\"EBS\", \"VIRTX\"], sec_types=\"STK\")"
   ]
  },
  {
   "cell_type": "markdown",
   "metadata": {},
   "source": [
    "Monitor flightlog for completion:\n",
    "\n",
    "```\n",
    "quantrocket.master: INFO Collecting EBS STK listings from IB website\n",
    "quantrocket.master: INFO Requesting details for 2053 EBS listings foundon IB website\n",
    "quantrocket.master: INFO Expected remaining runtime to collect listings: 0:00:59\n",
    "quantrocket.master: INFO Saved 1382 EBS listings to securities master database (ignored listings for AEB (1), FWB (3), FWB2 (2), IBIS (166), IBIS2 (5), SBF (117), SWB (1))\n",
    "...\n",
    "quantrocket.master: INFO Collecting VIRTX STK listings from IB website\n",
    "quantrocket.master: INFO Requesting details for 30 VIRTX listings foundon IB website\n",
    "quantrocket.master: INFO Saved 30 VIRTX listings to securities master database\n",
    "```"
   ]
  },
  {
   "cell_type": "markdown",
   "metadata": {},
   "source": [
    "## Create universe\n",
    "\n",
    "Create a universe of Swiss stocks:"
   ]
  },
  {
   "cell_type": "code",
   "execution_count": 2,
   "metadata": {},
   "outputs": [],
   "source": [
    "from quantrocket.master import download_master_file, create_universe\n",
    "download_master_file(exchanges=[\"EBS\", \"VIRTX\"], sec_types=\"STK\", filepath_or_buffer=\"swiss_stk.csv\")"
   ]
  },
  {
   "cell_type": "code",
   "execution_count": 3,
   "metadata": {},
   "outputs": [
    {
     "data": {
      "text/plain": [
       "{'code': 'swiss-stk',\n",
       " 'provided': 563,\n",
       " 'inserted': 563,\n",
       " 'total_after_insert': 563}"
      ]
     },
     "execution_count": 3,
     "metadata": {},
     "output_type": "execute_result"
    }
   ],
   "source": [
    "create_universe(\"swiss-stk\", infilepath_or_buffer=\"swiss_stk.csv\")"
   ]
  },
  {
   "cell_type": "markdown",
   "metadata": {},
   "source": [
    "> At the time of writing, the universe size is substantially smaller than the number of listings collected from IB's website. This is because many of the listings are ETFs but they are included alongside the stock listings on IB's website."
   ]
  },
  {
   "cell_type": "markdown",
   "metadata": {},
   "source": [
    "## Collect historical data\n",
    "\n",
    "To maximize our research flexibility, we'll collect primary and consolidated data.\n",
    "\n",
    "Create a database for collecting dividend-adjusted 1 day consolidated bars:"
   ]
  },
  {
   "cell_type": "code",
   "execution_count": 4,
   "metadata": {},
   "outputs": [
    {
     "data": {
      "text/plain": [
       "{'status': 'successfully created quantrocket.history.swiss-stk-1d.sqlite'}"
      ]
     },
     "execution_count": 4,
     "metadata": {},
     "output_type": "execute_result"
    }
   ],
   "source": [
    "from quantrocket.history import create_db\n",
    "create_db(\"swiss-stk-1d\", universes=\"swiss-stk\", bar_size=\"1 day\", bar_type=\"ADJUSTED_LAST\")"
   ]
  },
  {
   "cell_type": "markdown",
   "metadata": {},
   "source": [
    "Create a similar database for primary exchange bars:"
   ]
  },
  {
   "cell_type": "code",
   "execution_count": 5,
   "metadata": {},
   "outputs": [
    {
     "data": {
      "text/plain": [
       "{'status': 'successfully created quantrocket.history.swiss-stk-1d-p.sqlite'}"
      ]
     },
     "execution_count": 5,
     "metadata": {},
     "output_type": "execute_result"
    }
   ],
   "source": [
    "create_db(\"swiss-stk-1d-p\", universes=\"swiss-stk\", bar_size=\"1 day\", bar_type=\"ADJUSTED_LAST\", primary_exchange=True)"
   ]
  },
  {
   "cell_type": "markdown",
   "metadata": {},
   "source": [
    "Collect the data:"
   ]
  },
  {
   "cell_type": "code",
   "execution_count": 6,
   "metadata": {},
   "outputs": [
    {
     "data": {
      "text/plain": [
       "{'status': 'the historical data will be collected asynchronously'}"
      ]
     },
     "execution_count": 6,
     "metadata": {},
     "output_type": "execute_result"
    }
   ],
   "source": [
    "from quantrocket.history import collect_history\n",
    "collect_history([\"swiss-stk-1d-p\", \"swiss-stk-1d\"])"
   ]
  },
  {
   "cell_type": "markdown",
   "metadata": {},
   "source": [
    "Monitor flightlog for completion:\n",
    "```\n",
    "quantrocket.history: INFO [swiss-stk-1d-p] Collecting history from IB for 563 securities in swiss-stk-1d-p\n",
    "quantrocket.history: INFO [swiss-stk-1d-p] Expected remaining runtime to collect swiss-stk-1d-p history based on IB response times so far: 0:12:46 (468 more requests for 468 securities @ 1.94s/request)\n",
    "quantrocket.history: INFO [swiss-stk-1d-p] Saved 436543 total records for 549 total securities to quantrocket.history.swiss-stk-1d-p.sqlite\n",
    "...\n",
    "quantrocket.history: INFO [swiss-stk-1d] Collecting history from IB for 563 securities in swiss-stk-1d\n",
    "quantrocket.history: INFO [swiss-stk-1d] Expected remaining runtime to collect swiss-stk-1d history based on IB response times so far: 0:12:40 (467 more requests for 467 securities @ 1.88s/request)\n",
    "quantrocket.history: INFO [swiss-stk-1d] Saved 419865 total records for 549 total securities to quantrocket.history.swiss-stk-1d.sqlite\n",
    "```"
   ]
  },
  {
   "cell_type": "markdown",
   "metadata": {},
   "source": [
    "## Collect fundamental data"
   ]
  },
  {
   "cell_type": "markdown",
   "metadata": {},
   "source": [
    "### Estimates and actuals\n",
    "\n",
    "Collect fundamental data from the Reuters estimates and actuals database:"
   ]
  },
  {
   "cell_type": "code",
   "execution_count": 7,
   "metadata": {},
   "outputs": [
    {
     "data": {
      "text/plain": [
       "{'status': 'the fundamental data will be collected asynchronously'}"
      ]
     },
     "execution_count": 7,
     "metadata": {},
     "output_type": "execute_result"
    }
   ],
   "source": [
    "from quantrocket.fundamental import collect_reuters_estimates\n",
    "collect_reuters_estimates(universes=\"swiss-stk\")"
   ]
  },
  {
   "cell_type": "markdown",
   "metadata": {},
   "source": [
    "Monitor flightlog for completion:\n",
    "\n",
    "```\n",
    "quantrocket.fundamental: INFO Collecting Reuters estimates from IB for universes swiss-stk\n",
    "quantrocket.fundamental: INFO Saved 70400 total records for 465 total securities to quantrocket.fundamental.reuters.estimates.sqlite for universes swiss-stk (data unavailable for 83 securities)\n",
    "```"
   ]
  },
  {
   "cell_type": "markdown",
   "metadata": {},
   "source": [
    "### Financial statements\n",
    "\n",
    "Collect financial statements from Reuters:"
   ]
  },
  {
   "cell_type": "code",
   "execution_count": 8,
   "metadata": {},
   "outputs": [
    {
     "data": {
      "text/plain": [
       "{'status': 'the fundamental data will be collected asynchronously'}"
      ]
     },
     "execution_count": 8,
     "metadata": {},
     "output_type": "execute_result"
    }
   ],
   "source": [
    "from quantrocket.fundamental import collect_reuters_financials\n",
    "collect_reuters_financials(universes=\"swiss-stk\")"
   ]
  },
  {
   "cell_type": "markdown",
   "metadata": {},
   "source": [
    "Monitor flightlog for completion:\n",
    "\n",
    "```\n",
    "quantrocket.fundamental: INFO Collecting Reuters financials from IB for universes swiss-stk\n",
    "quantrocket.fundamental: INFO Saved 382475 total records for 511 total securities to quantrocket.fundamental.reuters.financials.sqlite for universes swiss-stk (data unavailable for 39 securities\n",
    "```"
   ]
  },
  {
   "cell_type": "markdown",
   "metadata": {},
   "source": [
    "### Shortable shares\n",
    "\n",
    "Collect the number of shares available to short:"
   ]
  },
  {
   "cell_type": "code",
   "execution_count": 9,
   "metadata": {},
   "outputs": [
    {
     "data": {
      "text/plain": [
       "{'status': 'the shortable shares will be collected asynchronously'}"
      ]
     },
     "execution_count": 9,
     "metadata": {},
     "output_type": "execute_result"
    }
   ],
   "source": [
    "from quantrocket.fundamental import collect_shortable_shares\n",
    "collect_shortable_shares(countries=\"swiss\")"
   ]
  },
  {
   "cell_type": "markdown",
   "metadata": {},
   "source": [
    "Monitor flightlog for completion:\n",
    "\n",
    "```\n",
    "quantrocket.fundamental: INFO Collecting swiss shortable shares from 2018-04-01 to present\n",
    "quantrocket.fundamental: INFO Saved 102817 total shortable shares records to quantrocket.fundamental.stockloan.shares.sqlite\n",
    "```"
   ]
  },
  {
   "cell_type": "markdown",
   "metadata": {},
   "source": [
    "***\n",
    "\n",
    "[Back to Europe Introduction](Europe-Introduction.ipynb)"
   ]
  }
 ],
 "metadata": {
  "kernelspec": {
   "display_name": "Python 3",
   "language": "python",
   "name": "python3"
  },
  "language_info": {
   "codemirror_mode": {
    "name": "ipython",
    "version": 3
   },
   "file_extension": ".py",
   "mimetype": "text/x-python",
   "name": "python",
   "nbconvert_exporter": "python",
   "pygments_lexer": "ipython3",
   "version": "3.6.6"
  }
 },
 "nbformat": 4,
 "nbformat_minor": 2
}
