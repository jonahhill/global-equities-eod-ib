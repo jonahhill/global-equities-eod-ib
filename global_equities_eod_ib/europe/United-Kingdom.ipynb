{
 "cells": [
  {
   "cell_type": "markdown",
   "metadata": {},
   "source": [
    "<img alt=\"QuantRocket logo\" src=\"https://www.quantrocket.com/assets/img/notebook-header-logo.png\">\n",
    "\n",
    "<a href=\"https://www.quantrocket.com/disclaimer/\">Disclaimer</a>"
   ]
  },
  {
   "cell_type": "markdown",
   "metadata": {},
   "source": [
    "# United Kingdom\n",
    "\n",
    "UK stocks trade on the London Stock Exchange (LSE)."
   ]
  },
  {
   "cell_type": "markdown",
   "metadata": {},
   "source": [
    "## Collect listings"
   ]
  },
  {
   "cell_type": "code",
   "execution_count": 1,
   "metadata": {},
   "outputs": [
    {
     "data": {
      "text/plain": [
       "{'status': 'the listing details will be collected asynchronously'}"
      ]
     },
     "execution_count": 1,
     "metadata": {},
     "output_type": "execute_result"
    }
   ],
   "source": [
    "from quantrocket.master import collect_listings\n",
    "collect_listings(exchanges=\"LSE\", sec_types=\"STK\")"
   ]
  },
  {
   "cell_type": "markdown",
   "metadata": {},
   "source": [
    "Monitor flightlog for completion:\n",
    "\n",
    "```\n",
    "quantrocket.master: INFO Collecting LSE STK listings from IB website\n",
    "quantrocket.master: INFO Requesting details for 3597 LSE listings found on IB website\n",
    "quantrocket.master: INFO Saved 3203 LSE listings to securities master database (ignored listings for ATH (1), ISED (12))\n",
    "```"
   ]
  },
  {
   "cell_type": "markdown",
   "metadata": {},
   "source": [
    "## Create universe\n",
    "\n",
    "Create a universe of UK stocks:"
   ]
  },
  {
   "cell_type": "code",
   "execution_count": 2,
   "metadata": {},
   "outputs": [],
   "source": [
    "from quantrocket.master import download_master_file, create_universe\n",
    "download_master_file(exchanges=\"LSE\", sec_types=\"STK\", filepath_or_buffer=\"uk_stk.csv\")"
   ]
  },
  {
   "cell_type": "code",
   "execution_count": 3,
   "metadata": {},
   "outputs": [
    {
     "data": {
      "text/plain": [
       "{'code': 'uk-stk',\n",
       " 'provided': 1527,\n",
       " 'inserted': 1527,\n",
       " 'total_after_insert': 1527}"
      ]
     },
     "execution_count": 3,
     "metadata": {},
     "output_type": "execute_result"
    }
   ],
   "source": [
    "create_universe(\"uk-stk\", infilepath_or_buffer=\"uk_stk.csv\")"
   ]
  },
  {
   "cell_type": "markdown",
   "metadata": {},
   "source": [
    "> At the time of writing, the universe size is substantially smaller than the number of listings collected from IB's website. This is because many of the listings are ETFs but they are included alongside the stock listings on IB's website."
   ]
  },
  {
   "cell_type": "markdown",
   "metadata": {},
   "source": [
    "## Collect historical data\n",
    "\n",
    "To maximize our research flexibility, we'll collect primary and consolidated data.\n",
    "\n",
    "Create a database for collecting dividend-adjusted 1 day consolidated bars:"
   ]
  },
  {
   "cell_type": "code",
   "execution_count": 4,
   "metadata": {},
   "outputs": [
    {
     "data": {
      "text/plain": [
       "{'status': 'successfully created quantrocket.history.uk-stk-1d.sqlite'}"
      ]
     },
     "execution_count": 4,
     "metadata": {},
     "output_type": "execute_result"
    }
   ],
   "source": [
    "from quantrocket.history import create_db\n",
    "create_db(\"uk-stk-1d\", universes=\"uk-stk\", bar_size=\"1 day\", bar_type=\"ADJUSTED_LAST\")"
   ]
  },
  {
   "cell_type": "markdown",
   "metadata": {},
   "source": [
    "Create a similar database for primary exchange bars:"
   ]
  },
  {
   "cell_type": "code",
   "execution_count": 5,
   "metadata": {},
   "outputs": [
    {
     "data": {
      "text/plain": [
       "{'status': 'successfully created quantrocket.history.uk-stk-1d-p.sqlite'}"
      ]
     },
     "execution_count": 5,
     "metadata": {},
     "output_type": "execute_result"
    }
   ],
   "source": [
    "create_db(\"uk-stk-1d-p\", universes=\"uk-stk\", bar_size=\"1 day\", bar_type=\"ADJUSTED_LAST\", primary_exchange=True)"
   ]
  },
  {
   "cell_type": "markdown",
   "metadata": {},
   "source": [
    "Collect the data:"
   ]
  },
  {
   "cell_type": "code",
   "execution_count": 6,
   "metadata": {},
   "outputs": [
    {
     "data": {
      "text/plain": [
       "{'status': 'the historical data will be collected asynchronously'}"
      ]
     },
     "execution_count": 6,
     "metadata": {},
     "output_type": "execute_result"
    }
   ],
   "source": [
    "from quantrocket.history import collect_history\n",
    "collect_history([\"uk-stk-1d-p\", \"uk-stk-1d\"])"
   ]
  },
  {
   "cell_type": "markdown",
   "metadata": {},
   "source": [
    "Monitor flightlog for completion:\n",
    "```\n",
    "quantrocket.history: INFO [uk-stk-1d-p] Collecting history from IB for 1493 securities in uk-stk-1d-p\n",
    "quantrocket.history: INFO [uk-stk-1d-p] Expected remaining runtime to collect uk-stk-1d-p history based on IB response times so far: 0:44:46 (1390 more requests for 1390 securities @ 1.94s/request)\n",
    "quantrocket.history: INFO [uk-stk-1d-p] Saved 2935255 total records for 1384 total securities to quantrocket.history.uk-stk-1d-p.sqlite\n",
    "...\n",
    "quantrocket.history: INFO [uk-stk-1d] Collecting history from IB for 1493 securities in uk-stk-1d\n",
    "quantrocket.history: INFO [uk-stk-1d] Expected remaining runtime to collect uk-stk-1d history based on IB response times so far: 0:44:40 (1391 more requests for 1391 securities @ 1.88s/request)\n",
    "quantrocket.history: INFO [uk-stk-1d] Saved 2936519 total records for 1384 total securities to quantrocket.history.uk-stk-1d.sqlite\n",
    "```"
   ]
  },
  {
   "cell_type": "markdown",
   "metadata": {},
   "source": [
    "## Collect fundamental data"
   ]
  },
  {
   "cell_type": "markdown",
   "metadata": {},
   "source": [
    "### Estimates and actuals\n",
    "\n",
    "Collect fundamental data from the Reuters estimates and actuals database:"
   ]
  },
  {
   "cell_type": "code",
   "execution_count": 7,
   "metadata": {},
   "outputs": [
    {
     "data": {
      "text/plain": [
       "{'status': 'the fundamental data will be collected asynchronously'}"
      ]
     },
     "execution_count": 7,
     "metadata": {},
     "output_type": "execute_result"
    }
   ],
   "source": [
    "from quantrocket.fundamental import collect_reuters_estimates\n",
    "collect_reuters_estimates(universes=\"uk-stk\")"
   ]
  },
  {
   "cell_type": "markdown",
   "metadata": {},
   "source": [
    "Monitor flightlog for completion:\n",
    "\n",
    "```\n",
    "quantrocket.fundamental: INFO Collecting Reuters estimates from IB for universes uk-stk\n",
    "quantrocket.fundamental: INFO Saved 77680 total records for 1119 total securities to quantrocket.fundamental.reuters.estimates.sqlite for universes uk-stk (data unavailable for 288 securities)\n",
    "```"
   ]
  },
  {
   "cell_type": "markdown",
   "metadata": {},
   "source": [
    "### Financial statements\n",
    "\n",
    "Collect financial statements from Reuters:"
   ]
  },
  {
   "cell_type": "code",
   "execution_count": 8,
   "metadata": {},
   "outputs": [
    {
     "data": {
      "text/plain": [
       "{'status': 'the fundamental data will be collected asynchronously'}"
      ]
     },
     "execution_count": 8,
     "metadata": {},
     "output_type": "execute_result"
    }
   ],
   "source": [
    "from quantrocket.fundamental import collect_reuters_financials\n",
    "collect_reuters_financials(universes=\"uk-stk\")"
   ]
  },
  {
   "cell_type": "markdown",
   "metadata": {},
   "source": [
    "Monitor flightlog for completion:\n",
    "\n",
    "```\n",
    "quantrocket.fundamental: INFO Collecting Reuters financials from IB for universes uk-stk\n",
    "quantrocket.fundamental: INFO Saved 919216 total records for 1348 total securities to quantrocket.fundamental.reuters.financials.sqlite for universes uk-stk (data unavailable for 98 securities)\n",
    "```"
   ]
  },
  {
   "cell_type": "markdown",
   "metadata": {},
   "source": [
    "### Shortable shares\n",
    "\n",
    "Collect the number of shares available to short:"
   ]
  },
  {
   "cell_type": "code",
   "execution_count": 9,
   "metadata": {},
   "outputs": [
    {
     "data": {
      "text/plain": [
       "{'status': 'the shortable shares will be collected asynchronously'}"
      ]
     },
     "execution_count": 9,
     "metadata": {},
     "output_type": "execute_result"
    }
   ],
   "source": [
    "from quantrocket.fundamental import collect_shortable_shares\n",
    "collect_shortable_shares(countries=\"british\")"
   ]
  },
  {
   "cell_type": "markdown",
   "metadata": {},
   "source": [
    "Monitor flightlog for completion:\n",
    "\n",
    "```\n",
    "quantrocket.fundamental: INFO Collecting british shortable shares from 2018-04-01 to present\n",
    "quantrocket.fundamental: INFO Saved 329883 total shortable shares records to quantrocket.fundamental.stockloan.shares.sqlite\n",
    "```"
   ]
  },
  {
   "cell_type": "markdown",
   "metadata": {},
   "source": [
    "***\n",
    "\n",
    "[Back to Europe Introduction](Europe-Introduction.ipynb)"
   ]
  }
 ],
 "metadata": {
  "kernelspec": {
   "display_name": "Python 3",
   "language": "python",
   "name": "python3"
  },
  "language_info": {
   "codemirror_mode": {
    "name": "ipython",
    "version": 3
   },
   "file_extension": ".py",
   "mimetype": "text/x-python",
   "name": "python",
   "nbconvert_exporter": "python",
   "pygments_lexer": "ipython3",
   "version": "3.6.6"
  }
 },
 "nbformat": 4,
 "nbformat_minor": 2
}
