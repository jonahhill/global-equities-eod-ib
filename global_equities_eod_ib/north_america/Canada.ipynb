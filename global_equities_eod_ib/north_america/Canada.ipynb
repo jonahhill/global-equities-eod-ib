{
 "cells": [
  {
   "cell_type": "markdown",
   "metadata": {},
   "source": [
    "<img alt=\"QuantRocket logo\" src=\"https://www.quantrocket.com/assets/img/notebook-header-logo.png\">\n",
    "\n",
    "<a href=\"https://www.quantrocket.com/disclaimer/\">Disclaimer</a>"
   ]
  },
  {
   "cell_type": "markdown",
   "metadata": {},
   "source": [
    "# Canada\n",
    "\n",
    "Canada stocks trade on the Toronto Stock Exchange (TSE), TSX Venture (VENTURE), and the Canadian Securities Exchange (PURE)."
   ]
  },
  {
   "cell_type": "markdown",
   "metadata": {},
   "source": [
    "## Collect listings"
   ]
  },
  {
   "cell_type": "code",
   "execution_count": 1,
   "metadata": {},
   "outputs": [
    {
     "data": {
      "text/plain": [
       "{'status': 'the listing details will be collected asynchronously'}"
      ]
     },
     "execution_count": 1,
     "metadata": {},
     "output_type": "execute_result"
    }
   ],
   "source": [
    "from quantrocket.master import collect_listings\n",
    "collect_listings(exchanges=[\"TSE\", \"VENTURE\", \"PURE\"], sec_types=\"STK\")"
   ]
  },
  {
   "cell_type": "markdown",
   "metadata": {},
   "source": [
    "Monitor flightlog for completion:\n",
    "\n",
    "```\n",
    "quantrocket.master: INFO Collecting TSE STK listings from IB website\n",
    "quantrocket.master: INFO Requesting details for 2038 TSE listings found on IB website\n",
    "quantrocket.master: INFO Saved 2035 TSE listings to securities master database\n",
    "...\n",
    "quantrocket.master: INFO Collecting VENTURE STK listings from IB website\n",
    "quantrocket.master: INFO Requesting details for 1819 VENTURE listings found on IB website\n",
    "quantrocket.master: INFO Saved 1817 VENTURE listings to securities master database\n",
    "...\n",
    "quantrocket.master: INFO Collecting PURE STK listings from IB website\n",
    "quantrocket.master: INFO Requesting details for 4154 PURE listings found on IB website\n",
    "quantrocket.master: INFO Saved 226 PURE listings to securities master database\n",
    "```"
   ]
  },
  {
   "cell_type": "markdown",
   "metadata": {},
   "source": [
    "## Create universe"
   ]
  },
  {
   "cell_type": "code",
   "execution_count": 2,
   "metadata": {},
   "outputs": [],
   "source": [
    "from quantrocket.master import download_master_file, create_universe\n",
    "download_master_file(exchanges=[\"TSE\", \"VENTURE\", \"PURE\"], sec_types=\"STK\", filepath_or_buffer=\"canada_stk.csv\")"
   ]
  },
  {
   "cell_type": "code",
   "execution_count": 3,
   "metadata": {},
   "outputs": [
    {
     "data": {
      "text/plain": [
       "{'code': 'canada-stk',\n",
       " 'provided': 3710,\n",
       " 'inserted': 3710,\n",
       " 'total_after_insert': 3710}"
      ]
     },
     "execution_count": 3,
     "metadata": {},
     "output_type": "execute_result"
    }
   ],
   "source": [
    "create_universe(\"canada-stk\", infilepath_or_buffer=\"canada_stk.csv\")"
   ]
  },
  {
   "cell_type": "markdown",
   "metadata": {},
   "source": [
    "## Collect historical data\n",
    "\n",
    "To maximize our research flexibility, we'll collect primary and consolidated data.\n",
    "\n",
    "Create a database for collecting dividend-adjusted 1 day consolidated bars:"
   ]
  },
  {
   "cell_type": "code",
   "execution_count": 4,
   "metadata": {},
   "outputs": [
    {
     "data": {
      "text/plain": [
       "{'status': 'successfully created quantrocket.history.canada-stk-1d.sqlite'}"
      ]
     },
     "execution_count": 4,
     "metadata": {},
     "output_type": "execute_result"
    }
   ],
   "source": [
    "from quantrocket.history import create_db\n",
    "create_db(\"canada-stk-1d\", universes=\"canada-stk\", bar_size=\"1 day\", bar_type=\"ADJUSTED_LAST\")"
   ]
  },
  {
   "cell_type": "markdown",
   "metadata": {},
   "source": [
    "Create a similar database for primary exchange bars:"
   ]
  },
  {
   "cell_type": "code",
   "execution_count": 5,
   "metadata": {},
   "outputs": [
    {
     "data": {
      "text/plain": [
       "{'status': 'successfully created quantrocket.history.canada-stk-1d-p.sqlite'}"
      ]
     },
     "execution_count": 5,
     "metadata": {},
     "output_type": "execute_result"
    }
   ],
   "source": [
    "create_db(\"canada-stk-1d-p\", universes=\"canada-stk\", bar_size=\"1 day\", bar_type=\"ADJUSTED_LAST\", primary_exchange=True)"
   ]
  },
  {
   "cell_type": "markdown",
   "metadata": {},
   "source": [
    "Collect the data:"
   ]
  },
  {
   "cell_type": "code",
   "execution_count": 6,
   "metadata": {},
   "outputs": [
    {
     "data": {
      "text/plain": [
       "{'status': 'the historical data will be collected asynchronously'}"
      ]
     },
     "execution_count": 6,
     "metadata": {},
     "output_type": "execute_result"
    }
   ],
   "source": [
    "from quantrocket.history import collect_history\n",
    "collect_history([\"canada-stk-1d-p\", \"canada-stk-1d\"])"
   ]
  },
  {
   "cell_type": "markdown",
   "metadata": {},
   "source": [
    "Monitor flightlog for completion:\n",
    "```\n",
    "quantrocket.history: INFO [canada-stk-1d-p] Collecting history from IB for 3569 securities in canada-stk-1d-p\n",
    "quantrocket.history: INFO [canada-stk-1d-p] Saved 4174223 total records for 3068 total securities to quantrocket.history.canada-stk-1d-p.sqlite\n",
    "...\n",
    "quantrocket.history: INFO [canada-stk-1d] Collecting history from IB for 3569 securities in canada-stk-1d\n",
    "quantrocket.history: INFO [canada-stk-1d] Saved 4360466 total records for 3519 total securities to quantrocket.history.canada-stk-1d.sqlite\n",
    "```"
   ]
  },
  {
   "cell_type": "markdown",
   "metadata": {},
   "source": [
    "## Collect fundamental data"
   ]
  },
  {
   "cell_type": "markdown",
   "metadata": {},
   "source": [
    "### Estimates and actuals\n",
    "\n",
    "Collect fundamental data from the Reuters estimates and actuals database:"
   ]
  },
  {
   "cell_type": "code",
   "execution_count": 7,
   "metadata": {},
   "outputs": [
    {
     "data": {
      "text/plain": [
       "{'status': 'the fundamental data will be collected asynchronously'}"
      ]
     },
     "execution_count": 7,
     "metadata": {},
     "output_type": "execute_result"
    }
   ],
   "source": [
    "from quantrocket.fundamental import collect_reuters_estimates\n",
    "collect_reuters_estimates(universes=\"canada-stk\")"
   ]
  },
  {
   "cell_type": "markdown",
   "metadata": {},
   "source": [
    "Monitor flightlog for completion:\n",
    "\n",
    "```\n",
    "quantrocket.fundamental: INFO Collecting Reuters estimates from IB for universes canada-stk\n",
    "quantrocket.fundamental: INFO Saved 99104 total records for 1064 total securities to quantrocket.fundamental.reuters.estimates.sqlite for universes canada-stk (data unavailable for 2235 securities)\n",
    "```"
   ]
  },
  {
   "cell_type": "markdown",
   "metadata": {},
   "source": [
    "### Financial statements\n",
    "\n",
    "Collect financial statements from Reuters:"
   ]
  },
  {
   "cell_type": "code",
   "execution_count": 8,
   "metadata": {},
   "outputs": [
    {
     "data": {
      "text/plain": [
       "{'status': 'the fundamental data will be collected asynchronously'}"
      ]
     },
     "execution_count": 8,
     "metadata": {},
     "output_type": "execute_result"
    }
   ],
   "source": [
    "from quantrocket.fundamental import collect_reuters_financials\n",
    "collect_reuters_financials(universes=\"canada-stk\")"
   ]
  },
  {
   "cell_type": "markdown",
   "metadata": {},
   "source": [
    "Monitor flightlog for completion:\n",
    "\n",
    "```\n",
    "quantrocket.fundamental: INFO Collecting Reuters financials from IB for universes canada-stk\n",
    "quantrocket.fundamental: INFO Saved 1559436 total records for 2475 total securities to quantrocket.fundamental.reuters.financials.sqlite for universes canada-stk (data unavailable for 848 securities)\n",
    "```"
   ]
  },
  {
   "cell_type": "markdown",
   "metadata": {},
   "source": [
    "### Shortable shares\n",
    "\n",
    "Collect the number of shares available to short:"
   ]
  },
  {
   "cell_type": "code",
   "execution_count": 9,
   "metadata": {},
   "outputs": [
    {
     "data": {
      "text/plain": [
       "{'status': 'the shortable shares will be collected asynchronously'}"
      ]
     },
     "execution_count": 9,
     "metadata": {},
     "output_type": "execute_result"
    }
   ],
   "source": [
    "from quantrocket.fundamental import collect_shortable_shares\n",
    "collect_shortable_shares(countries=\"canada\")"
   ]
  },
  {
   "cell_type": "markdown",
   "metadata": {},
   "source": [
    "Monitor flightlog for completion:\n",
    "\n",
    "```\n",
    "quantrocket.fundamental: INFO Collecting canada shortable shares from 2018-04-01 to present\n",
    "quantrocket.fundamental: INFO Saved 135821 total shortable shares records to quantrocket.fundamental.stockloan.shares.sqlite\n",
    "```"
   ]
  },
  {
   "cell_type": "markdown",
   "metadata": {},
   "source": [
    "***\n",
    "\n",
    "[Back to North America Introduction](North-America-Introduction.ipynb)"
   ]
  }
 ],
 "metadata": {
  "kernelspec": {
   "display_name": "Python 3",
   "language": "python",
   "name": "python3"
  },
  "language_info": {
   "codemirror_mode": {
    "name": "ipython",
    "version": 3
   },
   "file_extension": ".py",
   "mimetype": "text/x-python",
   "name": "python",
   "nbconvert_exporter": "python",
   "pygments_lexer": "ipython3",
   "version": "3.6.6"
  }
 },
 "nbformat": 4,
 "nbformat_minor": 2
}
