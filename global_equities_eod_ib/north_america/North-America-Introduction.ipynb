{
 "cells": [
  {
   "cell_type": "markdown",
   "metadata": {},
   "source": [
    "<img alt=\"QuantRocket logo\" src=\"https://www.quantrocket.com/assets/img/notebook-header-logo.png\">\n",
    "\n",
    "<a href=\"https://www.quantrocket.com/disclaimer/\">Disclaimer</a>"
   ]
  },
  {
   "cell_type": "markdown",
   "metadata": {},
   "source": [
    "# North American Equities End-of-Day Data Collection"
   ]
  },
  {
   "cell_type": "markdown",
   "metadata": {},
   "source": [
    "## IB market data permissions \n",
    "\n",
    "At the time of writing, the following subscriptions were needed to obtain the data in these notebooks. IB data packages change frequently so these may not match yours. \n",
    "\n",
    "* Canadian Exchange Group (TSX/TSXV) - Level 1\n",
    "* Canadian Securities Exchange (CSE) - Level 1\n",
    "* Mexican Stock Exchange - Level 1\n",
    "* US Securities Snapshot and Futures Value Bundle (Non-Pro) or Professional US Securities Snapshot Bundle (Pro) - Level 1"
   ]
  },
  {
   "cell_type": "markdown",
   "metadata": {},
   "source": [
    "## Countries\n",
    "\n",
    "### North America\n",
    "\n",
    "* [Canada](Canada.ipynb)\n",
    "* [Mexico](Mexico.ipynb)\n",
    "* [United States](United-States.ipynb)\n",
    "\n",
    "### Omitted Exchanges\n",
    "\n",
    "The US OTC market (PINK) is omitted."
   ]
  },
  {
   "cell_type": "markdown",
   "metadata": {},
   "source": [
    "***\n",
    "\n",
    "[Back to Global Introduction](../Introduction.ipynb)"
   ]
  }
 ],
 "metadata": {
  "kernelspec": {
   "display_name": "Python 3",
   "language": "python",
   "name": "python3"
  },
  "language_info": {
   "codemirror_mode": {
    "name": "ipython",
    "version": 3
   },
   "file_extension": ".py",
   "mimetype": "text/x-python",
   "name": "python",
   "nbconvert_exporter": "python",
   "pygments_lexer": "ipython3",
   "version": "3.6.6"
  }
 },
 "nbformat": 4,
 "nbformat_minor": 2
}
